{
 "cells": [
  {
   "cell_type": "code",
   "execution_count": 2,
   "metadata": {},
   "outputs": [],
   "source": [
    "import pandas as pd\n",
    "import numpy as np"
   ]
  },
  {
   "cell_type": "code",
   "execution_count": 4,
   "metadata": {},
   "outputs": [],
   "source": [
    "\n",
    "groupSize = 4\n",
    "ntrials = 10\n",
    "pi = 1.4\n",
    "ntokens = 20\n",
    "vals = np.arange(0,21,1) #possible values to contribute - from 0 to 20 tokens\n",
    "\n",
    "\n",
    "\n",
    "rawDat = pd.read_csv(\"antisocialdataset.csv\") # Public goods game"
   ]
  },
  {
   "cell_type": "code",
   "execution_count": 5,
   "metadata": {},
   "outputs": [
    {
     "data": {
      "text/html": [
       "<div>\n",
       "<style scoped>\n",
       "    .dataframe tbody tr th:only-of-type {\n",
       "        vertical-align: middle;\n",
       "    }\n",
       "\n",
       "    .dataframe tbody tr th {\n",
       "        vertical-align: top;\n",
       "    }\n",
       "\n",
       "    .dataframe thead th {\n",
       "        text-align: right;\n",
       "    }\n",
       "</style>\n",
       "<table border=\"1\" class=\"dataframe\">\n",
       "  <thead>\n",
       "    <tr style=\"text-align: right;\">\n",
       "      <th></th>\n",
       "      <th>sessionid</th>\n",
       "      <th>groupid</th>\n",
       "      <th>mgroupid</th>\n",
       "      <th>subjectid</th>\n",
       "      <th>p</th>\n",
       "      <th>secseq</th>\n",
       "      <th>city</th>\n",
       "      <th>period</th>\n",
       "      <th>senderscontribution</th>\n",
       "      <th>otherscontribution</th>\n",
       "      <th>...</th>\n",
       "      <th>civic</th>\n",
       "      <th>ruleoflaw</th>\n",
       "      <th>female</th>\n",
       "      <th>age</th>\n",
       "      <th>numknown</th>\n",
       "      <th>singlechild</th>\n",
       "      <th>ageu21</th>\n",
       "      <th>urbanbackground</th>\n",
       "      <th>middleclass</th>\n",
       "      <th>membership</th>\n",
       "    </tr>\n",
       "  </thead>\n",
       "  <tbody>\n",
       "    <tr>\n",
       "      <th>0</th>\n",
       "      <td>011108KA</td>\n",
       "      <td>703</td>\n",
       "      <td>703</td>\n",
       "      <td>701</td>\n",
       "      <td>N-experiment</td>\n",
       "      <td>0</td>\n",
       "      <td>Samara</td>\n",
       "      <td>1</td>\n",
       "      <td>20</td>\n",
       "      <td>18</td>\n",
       "      <td>...</td>\n",
       "      <td>8.050.114</td>\n",
       "      <td>-0.884283</td>\n",
       "      <td>1</td>\n",
       "      <td>22.0</td>\n",
       "      <td>16.0</td>\n",
       "      <td>0.0</td>\n",
       "      <td>0</td>\n",
       "      <td>1.0</td>\n",
       "      <td>0.0</td>\n",
       "      <td>0.0</td>\n",
       "    </tr>\n",
       "    <tr>\n",
       "      <th>1</th>\n",
       "      <td>011108KA</td>\n",
       "      <td>703</td>\n",
       "      <td>703</td>\n",
       "      <td>701</td>\n",
       "      <td>N-experiment</td>\n",
       "      <td>0</td>\n",
       "      <td>Samara</td>\n",
       "      <td>1</td>\n",
       "      <td>20</td>\n",
       "      <td>10</td>\n",
       "      <td>...</td>\n",
       "      <td>8.050.114</td>\n",
       "      <td>-0.884283</td>\n",
       "      <td>1</td>\n",
       "      <td>22.0</td>\n",
       "      <td>16.0</td>\n",
       "      <td>0.0</td>\n",
       "      <td>0</td>\n",
       "      <td>1.0</td>\n",
       "      <td>0.0</td>\n",
       "      <td>0.0</td>\n",
       "    </tr>\n",
       "    <tr>\n",
       "      <th>2</th>\n",
       "      <td>011108KA</td>\n",
       "      <td>703</td>\n",
       "      <td>703</td>\n",
       "      <td>701</td>\n",
       "      <td>N-experiment</td>\n",
       "      <td>0</td>\n",
       "      <td>Samara</td>\n",
       "      <td>1</td>\n",
       "      <td>20</td>\n",
       "      <td>10</td>\n",
       "      <td>...</td>\n",
       "      <td>8.050.114</td>\n",
       "      <td>-0.884283</td>\n",
       "      <td>1</td>\n",
       "      <td>22.0</td>\n",
       "      <td>16.0</td>\n",
       "      <td>0.0</td>\n",
       "      <td>0</td>\n",
       "      <td>1.0</td>\n",
       "      <td>0.0</td>\n",
       "      <td>0.0</td>\n",
       "    </tr>\n",
       "    <tr>\n",
       "      <th>3</th>\n",
       "      <td>011108KA</td>\n",
       "      <td>702</td>\n",
       "      <td>702</td>\n",
       "      <td>702</td>\n",
       "      <td>N-experiment</td>\n",
       "      <td>0</td>\n",
       "      <td>Samara</td>\n",
       "      <td>1</td>\n",
       "      <td>10</td>\n",
       "      <td>10</td>\n",
       "      <td>...</td>\n",
       "      <td>8.050.114</td>\n",
       "      <td>-0.884283</td>\n",
       "      <td>1</td>\n",
       "      <td>21.0</td>\n",
       "      <td>10.0</td>\n",
       "      <td>0.0</td>\n",
       "      <td>0</td>\n",
       "      <td>1.0</td>\n",
       "      <td>1.0</td>\n",
       "      <td>1.0</td>\n",
       "    </tr>\n",
       "    <tr>\n",
       "      <th>4</th>\n",
       "      <td>011108KA</td>\n",
       "      <td>702</td>\n",
       "      <td>702</td>\n",
       "      <td>702</td>\n",
       "      <td>N-experiment</td>\n",
       "      <td>0</td>\n",
       "      <td>Samara</td>\n",
       "      <td>1</td>\n",
       "      <td>10</td>\n",
       "      <td>20</td>\n",
       "      <td>...</td>\n",
       "      <td>8.050.114</td>\n",
       "      <td>-0.884283</td>\n",
       "      <td>1</td>\n",
       "      <td>21.0</td>\n",
       "      <td>10.0</td>\n",
       "      <td>0.0</td>\n",
       "      <td>0</td>\n",
       "      <td>1.0</td>\n",
       "      <td>1.0</td>\n",
       "      <td>1.0</td>\n",
       "    </tr>\n",
       "  </tbody>\n",
       "</table>\n",
       "<p>5 rows × 22 columns</p>\n",
       "</div>"
      ],
      "text/plain": [
       "  sessionid  groupid  mgroupid  subjectid             p  secseq    city  \\\n",
       "0  011108KA      703       703        701  N-experiment       0  Samara   \n",
       "1  011108KA      703       703        701  N-experiment       0  Samara   \n",
       "2  011108KA      703       703        701  N-experiment       0  Samara   \n",
       "3  011108KA      702       702        702  N-experiment       0  Samara   \n",
       "4  011108KA      702       702        702  N-experiment       0  Samara   \n",
       "\n",
       "   period  senderscontribution  otherscontribution  ...      civic  ruleoflaw  \\\n",
       "0       1                   20                  18  ...  8.050.114  -0.884283   \n",
       "1       1                   20                  10  ...  8.050.114  -0.884283   \n",
       "2       1                   20                  10  ...  8.050.114  -0.884283   \n",
       "3       1                   10                  10  ...  8.050.114  -0.884283   \n",
       "4       1                   10                  20  ...  8.050.114  -0.884283   \n",
       "\n",
       "  female   age  numknown  singlechild  ageu21  urbanbackground  middleclass  \\\n",
       "0      1  22.0      16.0          0.0       0              1.0          0.0   \n",
       "1      1  22.0      16.0          0.0       0              1.0          0.0   \n",
       "2      1  22.0      16.0          0.0       0              1.0          0.0   \n",
       "3      1  21.0      10.0          0.0       0              1.0          1.0   \n",
       "4      1  21.0      10.0          0.0       0              1.0          1.0   \n",
       "\n",
       "   membership  \n",
       "0         0.0  \n",
       "1         0.0  \n",
       "2         0.0  \n",
       "3         1.0  \n",
       "4         1.0  \n",
       "\n",
       "[5 rows x 22 columns]"
      ]
     },
     "execution_count": 5,
     "metadata": {},
     "output_type": "execute_result"
    }
   ],
   "source": [
    "rawDat.head()"
   ]
  },
  {
   "cell_type": "code",
   "execution_count": 6,
   "metadata": {},
   "outputs": [],
   "source": [
    "# create variable for GINI. Data from \n",
    "# http://hdr.undp.org/sites/default/files/reports/269/hdr_2009_en_complete.pdf,\n",
    "rawDat.insert(22, 'gini', \"\") "
   ]
  },
  {
   "cell_type": "code",
   "execution_count": 7,
   "metadata": {},
   "outputs": [],
   "source": [
    "%%capture\n",
    "rawDat['gini'][rawDat['city']==\"Melbourne\"]=34.3\n",
    "rawDat['gini'][rawDat['city']==\"Minsk\"]=25.3\n",
    "rawDat['gini'][rawDat['city']==\"Chengdu\"]=38.5\n",
    "rawDat['gini'][rawDat['city']==\"Copenhagen\"]=28.7\n",
    "rawDat['gini'][rawDat['city']==\"Bonn\"]=31.9\n",
    "rawDat['gini'][rawDat['city']==\"Athens\"]=34.4\n",
    "rawDat['gini'][rawDat['city']==\"Seoul\"]=31.6\n",
    "rawDat['gini'][rawDat['city']==\"Samara\"]=37.5\n",
    "rawDat['gini'][rawDat['city']==\"Zurich\"]=32.7\n",
    "rawDat['gini'][rawDat['city']==\"St. Gallen\"]=32.7\n",
    "rawDat['gini'][rawDat['city']==\"Istanbul\"]=41.9\n",
    "rawDat['gini'][rawDat['city']==\"Nottingham\"]=34.8\n",
    "rawDat['gini'][rawDat['city']==\"Dnipropetrovs'k\"]=26.1\n",
    "rawDat['gini'][rawDat['city']==\"Boston\"]=41.1"
   ]
  },
  {
   "cell_type": "code",
   "execution_count": 8,
   "metadata": {},
   "outputs": [],
   "source": [
    "# extract every third line - data file has lines representing others responses and we don't need that\n",
    "redDat = rawDat.iloc[::3, :]\n",
    "\n",
    "group_names = redDat.groupid.unique()\n",
    "ngroups = len(group_names)\n"
   ]
  },
  {
   "cell_type": "code",
   "execution_count": 9,
   "metadata": {},
   "outputs": [],
   "source": [
    "# THIS WILL REMOVE SUBJECTS WITH MISSING DATA IN NO PUNISHMENT CONDITION\n",
    "ngroups = 269\n",
    "\n",
    "subject_names = redDat['subjectid'].unique()\n",
    "nsubjects = len(subject_names)\n"
   ]
  },
  {
   "cell_type": "code",
   "execution_count": 10,
   "metadata": {},
   "outputs": [],
   "source": [
    "# data for no punishment condition #\n",
    "\n",
    "c_no_punish = np.zeros(shape = (groupSize, ntrials, ngroups)) #groupSize = 4, ntrials = 10, groups = 269)\n",
    "Ga_no_punish = np.zeros(shape = (ntrials, ngroups))   # shouldn't this be an average for each group? so groupSize instead of ntrials\n",
    "Gc_no_punish = np.zeros(shape = (groupSize, ntrials, ngroups))\n",
    "missing = np.zeros(ngroups)"
   ]
  },
  {
   "cell_type": "code",
   "execution_count": 11,
   "metadata": {},
   "outputs": [],
   "source": [
    "for g in range(0,ngroups):\n",
    "    c_no_punish[:,:,g][0] = np.array(redDat[(redDat['groupid']==group_names[g]) & (redDat['p']==\"N-experiment\")][['senderscontribution']][0:10]).flatten()\n",
    "    c_no_punish[:,:,g][1] = np.array(redDat[(redDat['groupid']==group_names[g]) & (redDat['p']==\"N-experiment\")][['senderscontribution']][10:20]).flatten()\n",
    "    c_no_punish[:,:,g][2] = np.array(redDat[(redDat['groupid']==group_names[g]) & (redDat['p']==\"N-experiment\")][['senderscontribution']][20:30]).flatten()\n",
    "    c_no_punish[:,:,g][3] = np.array(redDat[(redDat['groupid']==group_names[g]) & (redDat['p']==\"N-experiment\")][['senderscontribution']][30:40]).flatten()\n",
    "#take the average of the 10 trials for each group\n",
    "\n",
    "    Ga_no_punish[:,g] = np.mean(c_no_punish[:,:,g], axis = 0)\n",
    "    #missing[g] = np.isnan(c_no_punish[0][0][g])\n",
    "    zero = np.delete(c_no_punish[:,:,:],[0], axis = 0)\n",
    "    one = np.delete(c_no_punish[:,:,:],[1], axis = 0)\n",
    "    two = np.delete(c_no_punish[:,:,:],[2], axis = 0)\n",
    "    three = np.delete(c_no_punish[:,:,:],[3], axis = 0)\n",
    "\n",
    "    Gc_no_punish[:,:,g][0] = np.sum(zero[:,:,g], axis = 0)\n",
    "    Gc_no_punish[:,:,g][1] = np.sum(one[:,:,g], axis = 0)\n",
    "    Gc_no_punish[:,:,g][2] = np.sum(two[:,:,g], axis = 0)\n",
    "    Gc_no_punish[:,:,g][3] = np.sum(three[:,:,g], axis = 0)\n"
   ]
  },
  {
   "cell_type": "code",
   "execution_count": 12,
   "metadata": {},
   "outputs": [
    {
     "data": {
      "text/plain": [
       "array([[[20., 10., 15., ...,  6., 10., 12.],\n",
       "        [18., 10., 13., ..., 10.,  0., 15.],\n",
       "        [10., 20.,  5., ..., 11., 10., 20.],\n",
       "        ...,\n",
       "        [20., 13., 15., ..., 18.,  0.,  8.],\n",
       "        [ 5., 15., 20., ...,  4.,  1.,  1.],\n",
       "        [15., 20., 10., ...,  0.,  5., 10.]],\n",
       "\n",
       "       [[20., 20., 15., ..., 13.,  0., 20.],\n",
       "        [15., 15., 10., ..., 20.,  0., 15.],\n",
       "        [18., 18., 10., ...,  5.,  0.,  8.],\n",
       "        ...,\n",
       "        [19., 20., 20., ...,  5.,  0.,  5.],\n",
       "        [12., 20.,  8., ..., 11.,  8., 15.],\n",
       "        [13., 15., 15., ...,  0.,  0., 12.]],\n",
       "\n",
       "       [[12.,  0., 10., ...,  1.,  1.,  0.],\n",
       "        [20.,  5.,  9., ...,  2.,  0., 10.],\n",
       "        [17., 20., 10., ...,  2.,  0.,  1.],\n",
       "        ...,\n",
       "        [ 3., 12., 14., ..., 20.,  0.,  5.],\n",
       "        [ 3.,  1.,  5., ...,  4.,  0., 20.],\n",
       "        [10., 10.,  8., ..., 14., 10.,  5.]],\n",
       "\n",
       "       [[ 0., 20.,  1., ..., 14.,  0., 15.],\n",
       "        [ 5., 15., 17., ..., 20.,  2., 10.],\n",
       "        [ 0.,  8., 10., ..., 10.,  1., 17.],\n",
       "        ...,\n",
       "        [10., 20.,  0., ..., 10.,  0., 10.],\n",
       "        [ 0., 18., 15., ...,  0.,  0.,  0.],\n",
       "        [ 0., 12., 10., ..., 20.,  0., 20.]]])"
      ]
     },
     "execution_count": 12,
     "metadata": {},
     "output_type": "execute_result"
    }
   ],
   "source": [
    "c_no_punish"
   ]
  },
  {
   "cell_type": "code",
   "execution_count": 14,
   "metadata": {},
   "outputs": [],
   "source": [
    "# data for punishment condition #\n",
    "c_punish = np.zeros(shape=( groupSize, ntrials, ngroups,))\n",
    "Ga_punish = np.zeros(shape=(ntrials, ngroups))\n",
    "Gc_punish = np.zeros(shape = ( groupSize, ntrials,ngroups))"
   ]
  },
  {
   "cell_type": "code",
   "execution_count": 15,
   "metadata": {},
   "outputs": [],
   "source": [
    "for g in range(0,ngroups):\n",
    "    c_punish[:,:,g][0] = np.array(redDat[(redDat['groupid']==group_names[g]) & (redDat['p']==\"P-experiment\")][['senderscontribution']][0:10]).flatten()\n",
    "    c_punish[:,:,g][1] = np.array(redDat[(redDat['groupid']==group_names[g]) & (redDat['p']==\"P-experiment\")][['senderscontribution']][10:20]).flatten()\n",
    "    c_punish[:,:,g][2] = np.array(redDat[(redDat['groupid']==group_names[g]) & (redDat['p']==\"P-experiment\")][['senderscontribution']][20:30]).flatten()\n",
    "    c_punish[:,:,g][3] = np.array(redDat[(redDat['groupid']==group_names[g]) & (redDat['p']==\"P-experiment\")][['senderscontribution']][30:40]).flatten()\n",
    "  \n",
    "    Ga_punish[:,g] = np.mean(c_punish[:,:,g], axis = 0)\n",
    "    \n",
    "    zero_pun = np.delete(c_punish[:,:,:],[0], axis = 0)\n",
    "    one_pun = np.delete(c_punish[:,:,:],[1], axis = 0)\n",
    "    two_pun = np.delete(c_punish[:,:,:],[2], axis = 0)\n",
    "    three_pun = np.delete(c_punish[:,:,:],[3], axis = 0)\n",
    "    \n",
    "    Gc_punish[:,:,g][0] = np.sum(zero_pun[:,:,g], axis = 0)\n",
    "    Gc_punish[:,:,g][1] = np.sum(one_pun[:,:,g], axis = 0)\n",
    "    Gc_punish[:,:,g][2] = np.sum(two_pun[:,:,g], axis = 0)\n",
    "    Gc_punish[:,:,g][3] = np.sum(three_pun[:,:,g], axis = 0)\n",
    "  \n"
   ]
  },
  {
   "cell_type": "code",
   "execution_count": 16,
   "metadata": {},
   "outputs": [],
   "source": [
    "# compile data from each condition into 4D matrix\n",
    "\n",
    "c = np.zeros(shape = (groupSize, ntrials, ngroups, 2))\n",
    "\n",
    "c[:,:,:,0] = c_no_punish\n",
    "c[:,:,:,1] = c_punish\n",
    "Ga = np.zeros(shape = (ntrials, ngroups, 2))"
   ]
  },
  {
   "cell_type": "code",
   "execution_count": 20,
   "metadata": {},
   "outputs": [
    {
     "data": {
      "text/plain": [
       "array([[[10., 15.,  1., ...,  4., 15., 17.],\n",
       "        [14.,  5.,  0., ..., 10.,  0., 15.],\n",
       "        [10., 10., 15., ..., 16., 10., 20.],\n",
       "        ...,\n",
       "        [13.,  0., 18., ..., 20.,  5., 19.],\n",
       "        [ 5.,  0.,  2., ...,  2.,  8., 20.],\n",
       "        [ 3.,  0., 20., ..., 20., 10., 20.]],\n",
       "\n",
       "       [[10.,  0., 10., ..., 12., 10., 20.],\n",
       "        [14.,  5., 15., ..., 20.,  7., 20.],\n",
       "        [ 9.,  1.,  0., ...,  5., 12., 20.],\n",
       "        ...,\n",
       "        [ 2.,  3.,  2., ..., 10., 15., 20.],\n",
       "        [10.,  0., 10., ..., 14., 13., 20.],\n",
       "        [ 9.,  0.,  5., ..., 15., 12., 20.]],\n",
       "\n",
       "       [[ 7.,  2., 20., ...,  4., 10., 20.],\n",
       "        [ 9.,  0.,  1., ..., 13., 17., 20.],\n",
       "        [10.,  1.,  0., ..., 14., 15., 20.],\n",
       "        ...,\n",
       "        [12.,  0., 15., ...,  0., 13., 20.],\n",
       "        [12.,  5.,  0., ...,  3., 18., 20.],\n",
       "        [15.,  2.,  0., ..., 13., 17., 20.]],\n",
       "\n",
       "       [[15.,  0., 15., ...,  6., 18., 20.],\n",
       "        [14.,  0., 15., ..., 15., 15., 20.],\n",
       "        [20.,  0.,  1., ...,  4., 16., 20.],\n",
       "        ...,\n",
       "        [12.,  5.,  0., ...,  8., 17., 20.],\n",
       "        [15.,  0., 10., ..., 13., 20., 20.],\n",
       "        [16.,  0., 19., ..., 20., 18., 20.]]])"
      ]
     },
     "execution_count": 20,
     "metadata": {},
     "output_type": "execute_result"
    }
   ],
   "source": [
    "c[:,:,:,1]"
   ]
  },
  {
   "cell_type": "code",
   "execution_count": 21,
   "metadata": {},
   "outputs": [],
   "source": [
    "Ga[:,:,0] = Ga_no_punish\n",
    "Ga[:,:,1] = Ga_punish\n",
    "Gc = np.zeros(shape = (groupSize, ntrials, ngroups, 2))\n",
    "Gc[:,:,:,0]  = Gc_no_punish\n",
    "Gc[:,:,:,1]  = Gc_punish\n",
    "c_choice_index = c"
   ]
  },
  {
   "cell_type": "code",
   "execution_count": 25,
   "metadata": {},
   "outputs": [],
   "source": [
    "Gini = np.zeros(shape = (ngroups))\n",
    "for g in range(0, ngroups):\n",
    "    try:\n",
    "        Gini[g] = np.mean(redDat[(redDat['groupid'] == group_names[g]) & (redDat['p'] == 'P-experiment')][['gini']])\n",
    "    except:\n",
    "        Gini[g] = np.nan"
   ]
  },
  {
   "cell_type": "code",
   "execution_count": null,
   "metadata": {},
   "outputs": [],
   "source": []
  },
  {
   "cell_type": "code",
   "execution_count": 26,
   "metadata": {},
   "outputs": [],
   "source": [
    "nans = np.argwhere(np.isnan(Gini)).flatten()\n",
    "Ga_punish = np.delete(Ga_punish, nans, axis = 1)\n",
    "Ga_no_punish = np.delete(Ga_no_punish, nans, axis = 1)\n",
    "c = np.delete(c, nans, axis = 2)\n",
    "Ga = np.delete(Ga, nans, axis = 1)\n",
    "Gc = np.delete(Gc, nans, axis = 2)\n",
    "Gini = np.delete(Gini, nans, axis = 0)"
   ]
  },
  {
   "cell_type": "code",
   "execution_count": 27,
   "metadata": {},
   "outputs": [],
   "source": [
    "#redefine number of groups after removing those without civic scores\n",
    "ngroups = len(Gini)"
   ]
  },
  {
   "cell_type": "code",
   "execution_count": 28,
   "metadata": {},
   "outputs": [
    {
     "data": {
      "text/plain": [
       "array([ 69,  70,  71,  72,  73,  74,  75,  76,  77,  78,  79,  80,  81,\n",
       "       138, 139, 140, 141, 142, 143, 144, 145, 146, 147, 148, 149])"
      ]
     },
     "execution_count": 28,
     "metadata": {},
     "output_type": "execute_result"
    }
   ],
   "source": [
    "nans"
   ]
  },
  {
   "cell_type": "code",
   "execution_count": null,
   "metadata": {},
   "outputs": [],
   "source": [
    "####SAVE EVERYTHING"
   ]
  },
  {
   "cell_type": "code",
   "execution_count": 119,
   "metadata": {},
   "outputs": [],
   "source": [
    "np.save(\"c_no_punish.npy\", c_no_punish)\n",
    "np.save(\"Ga_no_punish.npy\", Ga_no_punish)\n",
    "np.save(\"Gc_no_punish.npy\", Gc_no_punish)\n",
    "np.save(\"c_punish.npy\", c_punish)\n",
    "np.save(\"Ga_punish.npy\", Ga_punish)\n",
    "np.save(\"Gc_punish.npy\", Gc_punish)\n",
    "np.save(\"c.npy\", c)\n",
    "np.save(\"Ga.npy\", Ga)\n",
    "np.save(\"Gc.npy\", Gc)\n",
    "np.save(\"c_choice_index.npy\", c_choice_index)\n",
    "np.save(\"Gini.npy\", Gini)\n"
   ]
  },
  {
   "cell_type": "code",
   "execution_count": 29,
   "metadata": {},
   "outputs": [
    {
     "data": {
      "text/plain": [
       "(4, 10, 219, 2)"
      ]
     },
     "execution_count": 29,
     "metadata": {},
     "output_type": "execute_result"
    }
   ],
   "source": [
    "c.shape"
   ]
  }
 ],
 "metadata": {
  "kernelspec": {
   "display_name": "Python 3",
   "language": "python",
   "name": "python3"
  },
  "language_info": {
   "codemirror_mode": {
    "name": "ipython",
    "version": 3
   },
   "file_extension": ".py",
   "mimetype": "text/x-python",
   "name": "python",
   "nbconvert_exporter": "python",
   "pygments_lexer": "ipython3",
   "version": "3.7.8"
  }
 },
 "nbformat": 4,
 "nbformat_minor": 4
}
